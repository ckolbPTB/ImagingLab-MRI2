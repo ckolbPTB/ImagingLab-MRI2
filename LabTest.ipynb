{
 "cells": [
  {
   "cell_type": "markdown",
   "metadata": {},
   "source": [
    "## Image Reconstruction Lab"
   ]
  },
  {
   "cell_type": "code",
   "execution_count": null,
   "metadata": {},
   "outputs": [],
   "source": [
    "%matplotlib inline\n",
    "import matplotlib.pyplot as plt\n",
    "import matplotlib\n",
    "matplotlib.rcParams['figure.figsize'] = [8, 6]\n",
    "matplotlib.rcParams['figure.dpi'] = 80\n",
    "\n",
    "import numpy as np\n",
    "import im_rec"
   ]
  },
  {
   "cell_type": "markdown",
   "metadata": {},
   "source": [
    "Below are a few code examples to (a) make sure that everything is running correctly and (b) to help you with the exercises."
   ]
  },
  {
   "cell_type": "markdown",
   "metadata": {},
   "source": [
    "### Exercise 3.1 - Load the image I from file into Python (and display it)."
   ]
  },
  {
   "cell_type": "code",
   "execution_count": null,
   "metadata": {},
   "outputs": [],
   "source": [
    "im = np.load('data/M.npy')\n",
    "\n",
    "fig, ax = plt.subplots(1)\n",
    "plt.setp(ax, xticks=[], yticks=[])\n",
    "ax.imshow(np.absolute(im), cmap='gist_gray')\n",
    "ax.set_title('Image');"
   ]
  },
  {
   "cell_type": "markdown",
   "metadata": {},
   "source": [
    "### Exercise 3.2 - Create a 2D image I of the modified Shepp-Logan phantom (and display it)."
   ]
  },
  {
   "cell_type": "code",
   "execution_count": null,
   "metadata": {},
   "outputs": [],
   "source": [
    "im = im_rec.phantom()\n",
    "\n",
    "fig, ax = plt.subplots(1)\n",
    "plt.setp(ax, xticks=[], yticks=[])\n",
    "ax.imshow(np.absolute(im), cmap='gist_gray')\n",
    "ax.set_title('Shepp-Logan phantom');"
   ]
  },
  {
   "cell_type": "markdown",
   "metadata": {},
   "source": [
    "### Exercise 5.1 - Reconstruct the radially acquired k-space data using im rec.rec 2d rad (and display it)"
   ]
  },
  {
   "cell_type": "code",
   "execution_count": null,
   "metadata": {},
   "outputs": [],
   "source": [
    "kdat = np.load('data/K_2Drad.npy')\n",
    "ktraj = np.load('data/CO_2Drad.npy')\n",
    "\n",
    "kdim = kdat.shape\n",
    "im_nodcf = im_rec.rec_2d_rad(kdat, ktraj, [], (kdim[0], kdim[0]))\n",
    "\n",
    "fig, ax = plt.subplots(1)\n",
    "plt.setp(ax, xticks=[], yticks=[])\n",
    "ax.imshow(np.absolute(im_nodcf), cmap='gist_gray')\n",
    "ax.set_title('Reconstructed image');"
   ]
  },
  {
   "cell_type": "code",
   "execution_count": null,
   "metadata": {},
   "outputs": [],
   "source": []
  }
 ],
 "metadata": {
  "kernelspec": {
   "display_name": "Python 3",
   "language": "python",
   "name": "python3"
  },
  "language_info": {
   "codemirror_mode": {
    "name": "ipython",
    "version": 3
   },
   "file_extension": ".py",
   "mimetype": "text/x-python",
   "name": "python",
   "nbconvert_exporter": "python",
   "pygments_lexer": "ipython3",
   "version": "3.10.14"
  }
 },
 "nbformat": 4,
 "nbformat_minor": 2
}
